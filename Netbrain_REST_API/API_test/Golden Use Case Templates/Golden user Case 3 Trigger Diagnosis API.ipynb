{
 "cells": [
  {
   "cell_type": "markdown",
   "metadata": {},
   "source": [
    "# Retrive multiple dynamic map by calling trigger diagnosis API\n",
    "In this use case,  we will totally focus on trigger diagnosis API to trigger multiple dynamic map as diagnosis referances. At the beginning, we must clarify that the trigger diagnosis API is one of the most important API in Netbrain's API library. Obviously it can trigger few dynamic maps from Netbrain to help engineers diagnose the real time issuses of network, actually the most significant value of this API is that it is the bridge for 3rd party data integration with Netbrain. Thus, if users eager to intergration with Netbrain's function and data from other software, this API is the only and the easist way so far. \n",
    "\n",
    "**[Step 1: Use case preparation](Step-1:-Use-case-preparation)**\n",
    ">> 1a. import all useful modules and create global variables<br>\n",
    ">> 1b. call login API<br>\n",
    ">> 1c. call specify_a_working_domain API<br>\n",
    "\n",
    "**[Step 2: Calling trigger_diagnosis API](Step-2:-Calling-trigger_diagnosis-API)**\n",
    ">> 2a. Call API to Default Neighbor Map<br>\n",
    ">> 2b. Call API to Open Site Map of The Device<br>\n",
    ">> 2c. Call API to Trigger An Existing Map<br>\n",
    ">> 2d. Call API to Map A Path<br>"
   ]
  },
  {
   "cell_type": "markdown",
   "metadata": {},
   "source": [
    "## Step 1: Use case preparation.\n",
    "***1a. import the corresponding modules in python and some fixed input parameters.***<br>\n",
    "> Note: If users try to use this code. please remember to change the \"nb_url\" to users' own working url.\n",
    "\n",
    "***1b. login API.***<br>\n",
    ">Same with use case 2, we calling the login API with \"username\" and \"password\" as inputs in the first step. As response we can get the authentication token as one fixed input in following APIs calling. If users get errors when calling this API please check the API documentation on [Github_login](https://github.com/Gongdai/Netbrain_REST_API_First_Regularization/blob/master/Netbrain_REST_API/API_test/STANDARD_formate_TEST1_LOGIN_API.ipynb).\n",
    "\n",
    "***1b. specify_a_working_domain API.***<br>\n",
    ">After we running this step successfully, we directly complete the full login processes which means we totally join in Netbrain System by calling APIs(because we have record our tenantId and domainId，if users don't know the ID of corresponding tenant and domain please fully follow step 1 to step 4 in use case 1). Next step, we will start to use Netbrain functions formally. If users want to get more details about this API or get errors when calling this API please check the API documentation on [Github_domain](https://github.com/Gongdai/Netbrain_REST_API_First_Regularization/blob/master/Netbrain_REST_API/API_test/STANDARD_formate_Specify_a_domain_to_work_on_API_Test1%20.ipynb).\n"
   ]
  },
  {
   "cell_type": "code",
   "execution_count": 20,
   "metadata": {},
   "outputs": [],
   "source": [
    "# import python modules \n",
    "import requests\n",
    "import time\n",
    "import urllib3\n",
    "import pprint\n",
    "#urllib3.disable_warnings(urllib3.exceptions.InsecureRequestWarning)\n",
    "import json\n",
    "\n",
    "nb_url = \"http://192.168.28.79\"\n",
    "headers = {'Content-Type': 'application/json', 'Accept': 'application/json'} \n",
    "TenantName = \"Initial Tenant\"\n",
    "DomainName = \"Support and Service\"\n",
    "username = \"gdluserTest\"\n",
    "password = \"123456\"\n",
    "tenant_id = \"fb24f3f0-81a7-1929-4b8f-99106c23fa5b\"\n",
    "domain_id = \"0201adc4-ae96-46f0-ae3d-01cdba9e41d6\"\n",
    "trigger_url = nb_url + \"/ServicesAPI/API/V1/Triggers/Run\""
   ]
  },
  {
   "cell_type": "code",
   "execution_count": 21,
   "metadata": {},
   "outputs": [
    {
     "name": "stdout",
     "output_type": "stream",
     "text": [
      "e85a53f1-5741-4d3d-9200-e1473c5453a4\n"
     ]
    }
   ],
   "source": [
    "# Calling Login API.\n",
    "\n",
    "body = {\n",
    "    \"username\" : username,      \n",
    "    \"password\" : password  \n",
    "}\n",
    "\n",
    "login_URL = nb_url + \"/ServicesAPI/API/V1/Session\"\n",
    "\n",
    "def login(login_URL, body, headers):\n",
    "    try:\n",
    "        # Do the HTTP request\n",
    "        response = requests.post(login_URL, headers=headers, data = json.dumps(body), verify=False)\n",
    "        # Check for HTTP codes other than 200\n",
    "        if response.status_code == 200:\n",
    "            # Decode the JSON response into a dictionary and use the data\n",
    "            js = response.json()\n",
    "            return (js[\"token\"])\n",
    "        else:\n",
    "            return (\"Get token failed! - \" + str(response.text))\n",
    "    except Exception as e:\n",
    "        return (str(e))\n",
    "    \n",
    "token = login(login_URL, body, headers)\n",
    "print(token) # print out the authentication token."
   ]
  },
  {
   "cell_type": "code",
   "execution_count": 22,
   "metadata": {},
   "outputs": [
    {
     "name": "stdout",
     "output_type": "stream",
     "text": [
      "Working Domain Specified Successfully, with domainId: 850ff5e9-c639-404d-85a3-d920dbee509c\n"
     ]
    }
   ],
   "source": [
    "# Calling Specify A Working Domain API\n",
    "\n",
    "Specify_a_working_domain_url = nb_url + \"/ServicesAPI/API/V1/Session/CurrentDomain\"\n",
    "\n",
    "def specify_a_working_domain(tenantId, domainId, Specify_a_working_domain_url, headers, token):\n",
    "    headers[\"Token\"] = token\n",
    "    body = {\n",
    "        \"tenantId\": tenant_id,\n",
    "        \"domainId\": domain_id\n",
    "    }\n",
    "    \n",
    "    try:\n",
    "        # Do the HTTP request\n",
    "        response = requests.put(Specify_a_working_domain_url, data=json.dumps(body), headers=headers, verify=False)\n",
    "        # Check for HTTP codes other than 200\n",
    "        if response.status_code == 200:\n",
    "            # Decode the JSON response into a dictionary and use the data\n",
    "            result = response.json()\n",
    "            return (\"Working Domain Specified Successfully, with domainId: \" + domainId)\n",
    "            \n",
    "        elif response.status_code != 200:\n",
    "            return (\"Login failed! - \" + str(response.text))\n",
    "\n",
    "    except Exception as e: print (str(e))\n",
    "\n",
    "res =  specify_a_working_domain(tenantId, domainId, Specify_a_working_domain_url, headers, token)\n",
    "print (res)"
   ]
  },
  {
   "cell_type": "markdown",
   "metadata": {},
   "source": [
    "## Step 2: Calling Trigger Diagnosis API \n",
    "After we finished all preparations, we are going to start to calling this API in step. One of the most significant characteristic of trigger diagnosis API is the gigantic input body (as a post function the body input is reasonable). There are more than 100 attributes in the entire body parameter. The body including 6 sub-sections, each section provide different input informations.See detail explanation in [Github_trigger_diagnosis](https://github.com/Gongdai/Netbrain_REST_API_First_Regularization/blob/master/Netbrain_REST_API/API_test/Trigger_Path_Map_program/trigger_map_and_path_API.ipynb)<br>\n",
    "\n",
    ">***Note:*** before calling this API, users must create a stub in Netbrain GUI system first: click desktop menu button -> System Automation Task Manager -> API Stub Manager -> Add Stub.\n",
    "\n",
    "***2a. Calling API to Create Default Neighbor Map***<br>\n",
    ">Note: \n",
    "\n",
    ">1) if the input value of map_setting.device is empty,\n",
    "then the API response will return the map about basic_setting.device defaulty.<br>\n",
    "\n",
    ">2) if the input value of map_setting.include_neighbor is empty,\n",
    "the API response map will return all neighbors of map_setting.device defaultly.<br>\n",
    "\n",
    ">3) if the input value of map_setting.device set as an un-exist device name,\n",
    "an error will occured : {'error': 'Failed to find the designated device SW40'}.<br>\n",
    "\n",
    "***2b. Calling API to Open Site Map of The Device.***<br>\n",
    "***2c. Calling API to Trigger An Existing Map.***<br>\n",
    ">When user willing to use this feature please follow the input format in code cell respectively and if user provide the map_id then the value of duplicate_map also must be provided. Or there would be an error occured: {'error': 'The duplicate_map flag is not set in the map-open parameters.'}.\n",
    "\n",
    "***2d. Calling API to Map A Path.***<br>\n",
    ">When user willing to use this feature please follow the input format and some input Parameters must be provided or an error will occoured: {'error': 'Source device or destination device is not provided.'}.\n",
    "\n",
    ">Til now we have fully called trigger diagnosis API and got four different type of maps. Users can copy the \"mapUrl\" in API response and open it in any browsers to check the map detail directly. \n",
    "\n",
    ">If users want to get more details about this API or get errors when calling this API please check the API documentation on[Github_trigger_diagnosis](https://github.com/Gongdai/Netbrain_REST_API_First_Regularization/blob/master/Netbrain_REST_API/API_test/Trigger_Path_Map_program/trigger_map_and_path_API.ipynb)"
   ]
  },
  {
   "cell_type": "code",
   "execution_count": 14,
   "metadata": {},
   "outputs": [
    {
     "data": {
      "text/plain": [
       "{'mapId': 'e7343091-c01a-40c9-9e33-bb066bb9d7f8',\n",
       " 'mapName': 'stubTest1-20190222154255',\n",
       " 'mapType': 1,\n",
       " 'mapUrl': 'http://192.168.28.79/map.html?t=fb24f3f0-81a7-1929-4b8f-99106c23fa5b&d=0201adc4-ae96-46f0-ae3d-01cdba9e41d6&id=e7343091-c01a-40c9-9e33-bb066bb9d7f8&maptype=1'}"
      ]
     },
     "execution_count": 14,
     "metadata": {},
     "output_type": "execute_result"
    }
   ],
   "source": [
    "# Calling API to Create Default Neighbor Map.\n",
    "\n",
    "API_Body = {\n",
    "               \"domain_setting\": {\n",
    "                    \"tenant_id\": tenant_id,\n",
    "                    \"domain_id\": domain_id\n",
    "                },\n",
    "                \"basic_setting\": {\n",
    "                    \"triggered_by\": \"Netbrain\",\n",
    "                    \"user\": \"gdluserTest\",\n",
    "                    \"device\": \"R20\",\n",
    "                    \"stub_name\": \"stubTest1\"\n",
    "                },\n",
    "                \"map_setting\": {\n",
    "                        \"map_create_mode\": 0,\n",
    "                        \"map_device_para\": {\n",
    "                        \"device\": \"SW4\",\n",
    "                        \"include_neighbor\": \"\",\n",
    "                        \"interfaces\": [\"\"],\n",
    "                        \"neighbor_type\": \"\"\n",
    "                        }\n",
    "                }\n",
    "            }  \n",
    "\n",
    "def trigger_default_map(trigger_url, headers, API_Body, token):\n",
    "    headers[\"Token\"] = token\n",
    "    api_result = requests.post(trigger_url, data=json.dumps(API_Body), headers=headers, verify=False)\n",
    "    if api_result.status_code == 200:\n",
    "        return api_result.json()\n",
    "    else:\n",
    "        return api_result.json()\n",
    "    \n",
    "result = trigger_default_map(trigger_url, headers, API_Body, token)\n",
    "result"
   ]
  },
  {
   "cell_type": "code",
   "execution_count": 17,
   "metadata": {},
   "outputs": [
    {
     "data": {
      "text/plain": [
       "{'mapId': 'e762eaa7-507f-4c02-9d40-c616f6d64702',\n",
       " 'mapName': 'AM-ARG-BA-BEN-1621-KM375RAM1618',\n",
       " 'mapType': 3,\n",
       " 'mapUrl': 'http://192.168.28.79/map.html?t=fb24f3f0-81a7-1929-4b8f-99106c23fa5b&d=0201adc4-ae96-46f0-ae3d-01cdba9e41d6&id=e762eaa7-507f-4c02-9d40-c616f6d64702&maptype=3'}"
      ]
     },
     "execution_count": 17,
     "metadata": {},
     "output_type": "execute_result"
    }
   ],
   "source": [
    "# Calling API to Open Site Map of The Device.\n",
    "# Please follow the input format \n",
    "\n",
    "API_Body1 = {\n",
    "        \"domain_setting\": {\n",
    "        \"tenant_id\": \"fb24f3f0-81a7-1929-4b8f-99106c23fa5b\",\n",
    "        \"domain_id\": \"0201adc4-ae96-46f0-ae3d-01cdba9e41d6\"\n",
    "        },\n",
    "        \"basic_setting\": {\n",
    "            \"triggered_by\": \"Netbrain\",\n",
    "            \"user\": \"gdluserTest\",\n",
    "            \"device\": \"R20\",\n",
    "            \"stub_name\": \"stubTest1\"\n",
    "        },\n",
    "        \"map_setting\": {\n",
    "                \"map_create_mode\": 1,\n",
    "                \"map_device_sitemap_para\": {\n",
    "                \"device\": \"R10\", # can not be null.\n",
    "                \"duplicate_map\": False # can not be null.\n",
    "            }\n",
    "        }  \n",
    "}\n",
    "\n",
    "result1 = trigger_default_map(trigger_url, headers, API_Body1, token)\n",
    "result1"
   ]
  },
  {
   "cell_type": "code",
   "execution_count": 18,
   "metadata": {},
   "outputs": [
    {
     "data": {
      "text/plain": [
       "{'mapId': 'f881543a-a631-45cb-8778-840f33a9341c',\n",
       " 'mapName': 'stubTest1-20190222155811',\n",
       " 'mapType': 1,\n",
       " 'mapUrl': 'http://192.168.28.79/map.html?t=fb24f3f0-81a7-1929-4b8f-99106c23fa5b&d=0201adc4-ae96-46f0-ae3d-01cdba9e41d6&id=f881543a-a631-45cb-8778-840f33a9341c&maptype=1'}"
      ]
     },
     "execution_count": 18,
     "metadata": {},
     "output_type": "execute_result"
    }
   ],
   "source": [
    "# Calling API to Trigger An Existing Map.\n",
    "# Please follow the input format \n",
    "\n",
    "API_Body2 = {\n",
    "                \"domain_setting\": {\n",
    "                \"tenant_id\": \"fb24f3f0-81a7-1929-4b8f-99106c23fa5b\",\n",
    "                \"domain_id\": \"0201adc4-ae96-46f0-ae3d-01cdba9e41d6\"\n",
    "                },\n",
    "                \"basic_setting\": {\n",
    "                    \"triggered_by\": \"Netbrain\",\n",
    "                    \"user\": \"gdluserTest\",\n",
    "                    \"device\": \"R20\",\n",
    "                    \"stub_name\": \"stubTest1\"\n",
    "                },\n",
    "                \"map_setting\": {\n",
    "                        \"map_create_mode\": 2,\n",
    "                        \"map_open_para\": {\n",
    "                        \"map_id\": \"e762eaa7-507f-4c02-9d40-c616f6d64702\", # can not be null.\n",
    "                        \"site_id\": \"\", \n",
    "                            # Please change to the correct input value before using, or an error will occured\n",
    "                        \"device_group_id\": \"\", \n",
    "                            # Please change to the correct input value before using, or an error will occured\n",
    "                        \"duplicate_map\": True # can not be null.\n",
    "                        }\n",
    "                }  \n",
    "        }\n",
    "\n",
    "result2 = trigger_default_map(trigger_url, headers, API_Body2, token)\n",
    "result2"
   ]
  },
  {
   "cell_type": "code",
   "execution_count": 19,
   "metadata": {},
   "outputs": [
    {
     "data": {
      "text/plain": [
       "{'mapId': '2a46013a-f913-4865-9f6c-bf8a77636f54',\n",
       " 'mapName': 'stubTest1-20190222160345',\n",
       " 'mapType': 1,\n",
       " 'mapUrl': 'http://192.168.28.79/map.html?t=fb24f3f0-81a7-1929-4b8f-99106c23fa5b&d=0201adc4-ae96-46f0-ae3d-01cdba9e41d6&id=2a46013a-f913-4865-9f6c-bf8a77636f54&maptype=1',\n",
       " 'taskId': 'ccd770be-2c7f-427a-921b-03b37b447cc0'}"
      ]
     },
     "execution_count": 19,
     "metadata": {},
     "output_type": "execute_result"
    }
   ],
   "source": [
    "# Calling API to Map A Path.\n",
    "# Please follow the input format \n",
    "\n",
    "API_Body3 = {\n",
    "                \"domain_setting\": {\n",
    "                \"tenant_id\": \"fb24f3f0-81a7-1929-4b8f-99106c23fa5b\",\n",
    "                \"domain_id\": \"0201adc4-ae96-46f0-ae3d-01cdba9e41d6\"\n",
    "                },\n",
    "                \"basic_setting\": {\n",
    "                    \"triggered_by\": \"Netbrain\",\n",
    "                    \"user\": \"gdluserTest\",\n",
    "                    \"device\": \"R20\",\n",
    "                    \"stub_name\": \"stubTest1\"\n",
    "                },\n",
    "                \"map_setting\": {\n",
    "                        \"map_create_mode\": 3,\n",
    "                        \"map_path_para\": {\n",
    "                        \"source\": \"R3\", # Can not be null\n",
    "                        \"source_gateway\": \"10.120.15.5\",\n",
    "                        \"source_gateway_dev\": \"R3\",\n",
    "                        \"source_gateway_intf\": \"Ethernet0/3.15\",\n",
    "                        \"source_port\": \"\",\n",
    "                        \"destination\": \"R2\",# Can not be null\n",
    "                        \"destination_gateway\": \"10.120.13.1\",\n",
    "                        \"destination_port\": \"\",\n",
    "                        \"destination_gateway_dev\": \"R2\",\n",
    "                        \"destination_gateway_intf\": \"Ethernet0/3.13\",\n",
    "                        \"direction\": 1, # Can not be null\n",
    "                        \"protocol\": 28, # Can not be null\n",
    "                        \"protocol_name\": \"\",\n",
    "                        \"path_analysis_set_name\": \"\",\n",
    "                        \"path_analysis_set\": \"L3 Path\", # Can not be null\n",
    "                        \"dataSource\": {\n",
    "                            \"type\": 1,\n",
    "                            \"recent\": {\n",
    "                                \"unit\": 2,\n",
    "                                \"duration\": 5\n",
    "                            },\n",
    "                            \"range\": {\n",
    "                                \"start\": \"\",\n",
    "                                \"end\": \"\"\n",
    "                            },\n",
    "                            \"around\": {\n",
    "                                \"time\": \"\"\n",
    "                            }\n",
    "                        }\n",
    "                    }\n",
    "                }  \n",
    "        }\n",
    "\n",
    "result3 = trigger_default_map(trigger_url, headers, API_Body3, token)\n",
    "result3"
   ]
  },
  {
   "cell_type": "markdown",
   "metadata": {},
   "source": [
    "## Step 3: Calling Logout API"
   ]
  },
  {
   "cell_type": "code",
   "execution_count": 23,
   "metadata": {},
   "outputs": [
    {
     "data": {
      "text/plain": [
       "{'statusCode': 790200, 'statusDescription': 'Success.'}"
      ]
     },
     "execution_count": 23,
     "metadata": {},
     "output_type": "execute_result"
    }
   ],
   "source": [
    "Logout_url = nb_url + \"/ServicesAPI/API/V1/Session\"\n",
    "\n",
    "def logout(Logout_url, token, headers):\n",
    "    headers[\"token\"] = token\n",
    "    \n",
    "    try:\n",
    "        # Do the HTTP request\n",
    "        response = requests.delete(Logout_url, headers=headers, verify=False)\n",
    "        # Check for HTTP codes other than 200\n",
    "        if response.status_code == 200:\n",
    "            # Decode the JSON response into a dictionary and use the data\n",
    "            js = response.json()\n",
    "            return (js)\n",
    "        else:\n",
    "            return (\"Session logout failed! - \" + str(response.text))\n",
    "\n",
    "    except Exception as e:\n",
    "        return (str(e))\n",
    "\n",
    "logout = logout(Logout_url, token, headers)\n",
    "logout"
   ]
  },
  {
   "cell_type": "markdown",
   "metadata": {},
   "source": [
    "# Referance:\n",
    "\n",
    "> 1) login API:<br>\n",
    "\n",
    ">https://github.com/Gongdai/Netbrain_REST_API_First_Regularization/blob/master/Netbrain_REST_API/API_test/STANDARD_formate_TEST1_LOGIN_API.ipynb\n",
    "\n",
    "> 2) specify_a_working_domain API: <br>\n",
    "\n",
    ">https://github.com/Gongdai/Netbrain_REST_API_First_Regularization/blob/master/Netbrain_REST_API/API_test/STANDARD_formate_Specify_a_domain_to_work_on_API_Test1%20.ipynb\n",
    "\n",
    "> 3) trigger_diagnosis API:<br>\n",
    "\n",
    ">https://github.com/Gongdai/Netbrain_REST_API_First_Regularization/blob/master/Netbrain_REST_API/API_test/Trigger_Path_Map_program/trigger_map_and_path_API.ipynb\n"
   ]
  },
  {
   "cell_type": "code",
   "execution_count": null,
   "metadata": {},
   "outputs": [],
   "source": []
  }
 ],
 "metadata": {
  "kernelspec": {
   "display_name": "Python 3",
   "language": "python",
   "name": "python3"
  },
  "language_info": {
   "codemirror_mode": {
    "name": "ipython",
    "version": 3
   },
   "file_extension": ".py",
   "mimetype": "text/x-python",
   "name": "python",
   "nbconvert_exporter": "python",
   "pygments_lexer": "ipython3",
   "version": "3.7.1"
  }
 },
 "nbformat": 4,
 "nbformat_minor": 2
}
