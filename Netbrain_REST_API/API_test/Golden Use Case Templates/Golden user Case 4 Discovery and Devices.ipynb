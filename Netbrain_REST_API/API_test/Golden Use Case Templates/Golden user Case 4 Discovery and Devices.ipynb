{
 "cells": [
  {
   "cell_type": "markdown",
   "metadata": {},
   "source": [
    "# Discovery Devices and Check Devices Detail Informations\n",
    "During this use case, we are going to focus on using discovery APIs to discover devices which we are willing to modify. As we know, the discovery APIs are provide very high utility in all of APIs and centralize on devices modification.\n",
    "\n",
    "In this use case, we totally concern 11 APIs, as shown below:\n",
    "\n",
    "**[Step 1: Use case preparation.](Step-1:-Use-case-preparation.)**\n",
    ">>1a. import all useful modules and create global variables<br>\n",
    ">>1b. call login API<br>\n",
    ">>1c. call specify_a_working_domain API<br>\n",
    "\n",
    "**[Step 2: Specify discovery task can be used and check task status.](Step-2:-Specify-discovery-task-can-be-used-and-check-task-status.)** \n",
    ">>2a. call get_all_discovery_taske API<br>\n",
    ">>2b. call get_discovery_task_status API\n",
    "\n",
    "**[Step 3: Modify devices information in discovery task.](Step-3:-Modify-devices-information-in-discovery-task.)**\n",
    ">>3a. call add_seed_Ips_to_discovery API<br>\n",
    ">>3b. call delete_seed_Ips_to_discovery API<br>\n",
    ">>3c. call get_all_seed_Ips_from_discovery\n",
    "\n",
    "**[Step 4: Run the task and check the running result.](Step-4:-Run-the-task-and-check-the-running-result.)**\n",
    ">>4a. call run_discovery_task_now API<br>\n",
    ">>4b. call get_discovery_tasks_result API<br>\n",
    ">>4c. call get_discovery_live_access API\n",
    "\n"
   ]
  },
  {
   "cell_type": "markdown",
   "metadata": {},
   "source": [
    "## Step 1: Use case preparation.\n",
    "***1a. import the corresponding modules in python and some fixed input parameters.***<br>\n",
    "> Note: If users try to use this code. please remember to change the \"nb_url\" to users' own working url.\n",
    "\n",
    "***1b. login API.***<br>\n",
    ">Same with use case 2, we calling the login API with \"username\" and \"password\" as inputs in the first step. As response we can get the authentication token as one fixed input in following APIs calling. If users get errors when calling this API please check the API documentation on [Github_login](https://github.com/Gongdai/Netbrain_REST_API_First_Regularization/blob/master/Netbrain_REST_API/API_test/STANDARD_formate_TEST1_LOGIN_API.ipynb).\n",
    "\n",
    "***1b. specify_a_working_domain API.***<br>\n",
    ">After we running this step successfully, we directly complete the full login processes which means we totally join in Netbrain System by calling APIs(because we have record our tenantId and domainId，if users don't know the ID of corresponding tenant and domain please fully follow step 1 to step 4 in use case 1). Next step, we will start to use Netbrain functions formally. If users want to get more details about this API or get errors when calling this API please check the API documentation on [Github_domain](https://github.com/Gongdai/Netbrain_REST_API_First_Regularization/blob/master/Netbrain_REST_API/API_test/STANDARD_formate_Specify_a_domain_to_work_on_API_Test1%20.ipynb).\n"
   ]
  },
  {
   "cell_type": "code",
   "execution_count": 17,
   "metadata": {},
   "outputs": [],
   "source": [
    "# import python modules and provide global variables.\n",
    "import requests\n",
    "import time\n",
    "import urllib3\n",
    "import pprint\n",
    "#urllib3.disable_warnings(urllib3.exceptions.InsecureRequestWarning)\n",
    "import json\n",
    "\n",
    "nb_url = \"http://192.168.28.79\"\n",
    "headers = {'Content-Type': 'application/json', 'Accept': 'application/json'} \n",
    "TenantName = \"Initial Tenant\"\n",
    "DomainName = \"Support and Service\"\n",
    "username = \"gdluserTest\"\n",
    "password = \"123456\"\n",
    "tenant_id = \"fb24f3f0-81a7-1929-4b8f-99106c23fa5b\"\n",
    "domain_id = \"850ff5e9-c639-404d-85a3-d920dbee509c\"\n",
    "task_name = \"gdlDisTask1\""
   ]
  },
  {
   "cell_type": "code",
   "execution_count": 9,
   "metadata": {},
   "outputs": [
    {
     "name": "stdout",
     "output_type": "stream",
     "text": [
      "aeada487-9cbf-4459-8796-3845feaf65af\n"
     ]
    }
   ],
   "source": [
    "# Calling Login API\n",
    "\n",
    "body = {\n",
    "    \"username\" : username,      \n",
    "    \"password\" : password  \n",
    "}\n",
    "\n",
    "login_URL = nb_url + \"/ServicesAPI/API/V1/Session\"\n",
    "\n",
    "def login(login_URL, body, headers):\n",
    "    try:\n",
    "        # Do the HTTP request\n",
    "        response = requests.post(login_URL, headers=headers, data = json.dumps(body), verify=False)\n",
    "        # Check for HTTP codes other than 200\n",
    "        if response.status_code == 200:\n",
    "            # Decode the JSON response into a dictionary and use the data\n",
    "            js = response.json()\n",
    "            return (js[\"token\"])\n",
    "        else:\n",
    "            return (\"Get token failed! - \" + str(response.text))\n",
    "    except Exception as e:\n",
    "        return (str(e))\n",
    "    \n",
    "token = login(login_URL, body, headers)\n",
    "print(token) # print out the authentication token."
   ]
  },
  {
   "cell_type": "code",
   "execution_count": 12,
   "metadata": {},
   "outputs": [
    {
     "name": "stdout",
     "output_type": "stream",
     "text": [
      "Working Domain Specified Successfully, with domainId: 850ff5e9-c639-404d-85a3-d920dbee509c\n"
     ]
    }
   ],
   "source": [
    "#specify_a_working_domain API.\n",
    "\n",
    "Specify_a_working_domain_url = nb_url + \"/ServicesAPI/API/V1/Session/CurrentDomain\"\n",
    "\n",
    "def specify_a_working_domain(tenant_id, domain_id, Specify_a_working_domain_url, headers, token):\n",
    "    headers[\"Token\"] = token\n",
    "    body = {\n",
    "        \"tenantId\": tenant_id,\n",
    "        \"domainId\": domain_id\n",
    "    }\n",
    "    \n",
    "    try:\n",
    "        # Do the HTTP request\n",
    "        response = requests.put(Specify_a_working_domain_url, data=json.dumps(body), headers=headers, verify=False)\n",
    "        # Check for HTTP codes other than 200\n",
    "        if response.status_code == 200:\n",
    "            # Decode the JSON response into a dictionary and use the data\n",
    "            result = response.json()\n",
    "            return (\"Working Domain Specified Successfully, with domainId: \" + domain_id)\n",
    "            \n",
    "        elif response.status_code != 200:\n",
    "            return (\"Login failed! - \" + str(response.text))\n",
    "\n",
    "    except Exception as e: print (str(e))\n",
    "\n",
    "res =  specify_a_working_domain(tenant_id, domain_id, Specify_a_working_domain_url, headers, token)\n",
    "print (res)"
   ]
  },
  {
   "cell_type": "markdown",
   "metadata": {},
   "source": [
    "## Step 2: Specify discovery task can be used and check task status.\n",
    "During this step, we need to choose or create one discovery task for following operatings and if it is an exist task, the status also need to be checked.\n",
    "\n",
    "***2a. Calling get all discovery tasks API***\n",
    "> Call this API to get all discovery tasks from current domain. And to specify the taskId of the task which we going to use. If there are no discovery tasks in the system, add a new discovery task from the Domain Management page. In the discovery task, select Once on the Frequency tab and Discover the following IPs on the Discovery Seed tab. (more details: [Github_get_all_discovery_task](https://github.com/Gongdai/Netbrain_REST_API_First_Regularization/blob/master/Netbrain_REST_API/API_test/Discovery%20API%20Design/STANDARD_formate_Get_All_Discovery_Tasks_API_Test.ipynb)).\n",
    "\n",
    "***2b. Calling get discovery task status API***\n",
    "> Call this API to get the status of the discovery task which identified by task ID. The reason why we calling this API at here is to confirm the discovery task can be used or not. (more details: [Github_get_all_discovery_task](https://github.com/Gongdai/Netbrain_REST_API_First_Regularization/blob/master/Netbrain_REST_API/API_test/Discovery%20API%20Design/STANDARD_formate_Get_Discovery_Tasks_Status_API_Test.ipynb))."
   ]
  },
  {
   "cell_type": "code",
   "execution_count": 18,
   "metadata": {},
   "outputs": [
    {
     "data": {
      "text/plain": [
       "'1227fb4f-356d-76c8-d140-04d34ffaf79a'"
      ]
     },
     "execution_count": 18,
     "metadata": {},
     "output_type": "execute_result"
    }
   ],
   "source": [
    "get_all_discovery_taske_url = nb_url + \"/ServicesAPI/API/V1/CMDB/Discovery/Tasks\"\n",
    "\n",
    "def get_all_discovery_task(get_all_discovery_taske_url, headers, token):\n",
    "    headers[\"Token\"] = token\n",
    "    try:\n",
    "        # Do the HTTP request\n",
    "        response = requests.get(get_all_discovery_taske_url, headers=headers, verify=False)\n",
    "        # Check for HTTP codes other than 200\n",
    "        if response.status_code == 200:\n",
    "            # Decode the JSON response into a dictionary and use the data\n",
    "            result = response.json()[\"tasks\"]\n",
    "            for i in result:\n",
    "                if i[\"name\"] == task_name:\n",
    "                    return i[\"id\"]\n",
    "        else:\n",
    "            return (\"Get discovery task list failed - \" + str(response.text))\n",
    "\n",
    "    except Exception as e:\n",
    "        return (str(e)) \n",
    "    \n",
    "taskId = get_all_discovery_taske(get_all_discovery_taske_url, headers, token)\n",
    "taskId"
   ]
  },
  {
   "cell_type": "code",
   "execution_count": 90,
   "metadata": {},
   "outputs": [
    {
     "data": {
      "text/plain": [
       "'Task Status: Succeeded with warnings'"
      ]
     },
     "execution_count": 90,
     "metadata": {},
     "output_type": "execute_result"
    }
   ],
   "source": [
    "get_discovery_task_status_url = nb_url + \"/ServicesAPI/API/V1/CMDB/Discovery/Tasks/\"+str(taskId)+\"/Status\"\n",
    "\n",
    "'''statusList = {\n",
    "    -1: \"Unknown\",\n",
    "     0: \"Never run\",\n",
    "     2: \"Running\",\n",
    "    10: \"Succeeded\",\n",
    "    11: \"Succeeded with warnings\",\n",
    "    20: \"Failed\",\n",
    "    30: \"Manually stopped\",\n",
    "    31: \"Automatically stopped due to timeout set by users or another system setting\"\n",
    "}'''\n",
    "\n",
    "def get_discovery_task_status(get_discovery_task_status_url, headers, token):\n",
    "    try:\n",
    "        # Do the HTTP request\n",
    "        response = requests.get(get_discovery_task_status_url, headers=headers, verify=False)\n",
    "        # Check for HTTP codes other than 200\n",
    "        if response.status_code == 200:\n",
    "            # Decode the JSON response into a dictionary and use the data\n",
    "            result = response.json()[\"taskStatus\"]\n",
    "            #task_status = statusList[result]\n",
    "            return (\"Task Status: \" + str(result))\n",
    "        else:\n",
    "            return(\"Get Running Status failed - \" + str(response.text))\n",
    "\n",
    "    except Exception as e:\n",
    "        return (str(e)) \n",
    "    \n",
    "status = get_discovery_task_status(get_discovery_task_status_url, headers, token)\n",
    "status"
   ]
  },
  {
   "cell_type": "markdown",
   "metadata": {},
   "source": [
    "## Step 3: Modify devices information in discovery task.\n",
    "After Step 2, we are going to discover devices by using the task we have specified in this step. \n",
    "\n",
    "***3a. Calling add_seed_Ips_to_discovery API***\n",
    ">Call this API to add a list of target ip addresses as seeds to an EXISTING scheduled discovery task along with optional cli information for each ip. (more details: [Github_add_seed_Ips_to_discovery](https://github.com/Gongdai/Netbrain_REST_API_First_Regularization/blob/master/Netbrain_REST_API/API_test/Discovery%20API%20Design/STANDARD_formate_Add_Seed_IP(s)_to_Discovery_API_Test.ipynb)).\n",
    "\n",
    "***3b. Calling delete_seed_Ips_to_discovery API***\n",
    ">Call this API to remove specific IP addresses from a discovery task, if list is empty, remove all. This calling is optional, users don't need to call this API if there is no problems in previous input devices list.(more details: [Github_delete_seed_Ips_to_discovery](https://github.com/Gongdai/Netbrain_REST_API_First_Regularization/blob/master/Netbrain_REST_API/API_test/Discovery%20API%20Design/STANDARD_formate_Delete_Seed_IP(s)_from_Discovery_API_Test.ipynb)).\n",
    "\n",
    "***3c. Calling get_all_seed_Ips_from_discovery***\n",
    ">Call this API to get ip addresses of all devices in one discovery task. In current step, we totally call this API twice. First time is after we input a devices list to add seed Ips to discovery task, the reason is to confirm we put in all device Ips successfully into the task. Second time is after we calling the delete seeds Ips from discovery, also to confirm the final devices list is acurracy (if users didn't call the delete API then there is no need to call this API twice). (more details: [Github_get_all_seed_Ips_from_discovery](https://github.com/Gongdai/Netbrain_REST_API_First_Regularization/blob/master/Netbrain_REST_API/API_test/Discovery%20API%20Design/STANDARD_formate_Get_All_SeedIPs_from_Discovery_API_Test.ipynb)).\n"
   ]
  },
  {
   "cell_type": "code",
   "execution_count": 94,
   "metadata": {},
   "outputs": [
    {
     "data": {
      "text/plain": [
       "{'statusCode': 790200, 'statusDescription': 'Success.'}"
      ]
     },
     "execution_count": 94,
     "metadata": {},
     "output_type": "execute_result"
    }
   ],
   "source": [
    "add_seed_Ips_to_discovery_url = nb_url + \"/ServicesAPI/API//V1/CMDB/Discovery/Tasks/\"+str(taskId)+\"/Seeds\"\n",
    "\n",
    "mgmIP1 = \"10.1.13.2\"\n",
    "mgmIP2 = \"123.1.1.1\"\n",
    "mgmIP3 = \"10.1.14.2\"\n",
    "mgmIP4 = \"123.203.3.3\"\n",
    "mgmIP5 = \"123.204.4.4\"\n",
    "mgmIP6 = \"123.20.1.3\"\n",
    "\n",
    "body = {\n",
    "    \"seeds\" : \n",
    "        [\n",
    "            {\"mgmtIP\": mgmIP1},\n",
    "            {\"mgmtIP\": mgmIP2},\n",
    "            {\"mgmtIP\": mgmIP3},\n",
    "            {\"mgmtIP\": mgmIP4},\n",
    "            {\"mgmtIP\": mgmIP5},\n",
    "            {\"mgmtIP\": mgmIP6}\n",
    "        ]\n",
    "    }\n",
    " \n",
    "def add_seed_Ips_to_discovery(add_seed_Ips_to_discovery_url, body, headers, token):\n",
    "    try:\n",
    "        # Do the HTTP request\n",
    "        response = requests.post(add_seed_Ips_to_discovery_url, data = json.dumps(body), headers=headers, verify=False)\n",
    "        # Check for HTTP codes other than 200\n",
    "        if response.status_code == 200:\n",
    "            # Decode the JSON response into a dictionary and use the data\n",
    "            result = response.json()\n",
    "            return (result)\n",
    "        else:\n",
    "            return(\"IP Add Failed - \" + str(response.text))\n",
    "\n",
    "    except Exception as e:\n",
    "        return (str(e)) \n",
    "        \n",
    "result = add_seed_Ips_to_discovery(add_seed_Ips_to_discovery_url, body, headers, token)\n",
    "result"
   ]
  },
  {
   "cell_type": "code",
   "execution_count": 95,
   "metadata": {},
   "outputs": [
    {
     "data": {
      "text/plain": [
       "['10.1.13.2',\n",
       " '10.1.14.2',\n",
       " '123.1.1.1',\n",
       " '123.20.1.3',\n",
       " '123.203.3.3',\n",
       " '123.204.4.4']"
      ]
     },
     "execution_count": 95,
     "metadata": {},
     "output_type": "execute_result"
    }
   ],
   "source": [
    "get_all_seed_Ips_from_discovery_url =  nb_url + \"/ServicesAPI/API//V1/CMDB/Discovery/Tasks/\"+str(taskId)+\"/Seeds\"\n",
    "\n",
    "def get_all_seed_Ips_from_discovery(get_all_seed_Ips_from_discovery_url, headers, token):\n",
    "    try:\n",
    "        # Do the HTTP request\n",
    "        response = requests.get(get_all_seed_Ips_from_discovery_url, headers=headers, verify=False)\n",
    "        # Check for HTTP codes other than 200\n",
    "        if response.status_code == 200:\n",
    "            # Decode the JSON response into a dictionary and use the data\n",
    "            result = response.json()[\"ips\"]\n",
    "            return (result)\n",
    "        else:\n",
    "            return (\"Get IPs from discovery task failed - \" + str(response.text))\n",
    "\n",
    "    except Exception as e:\n",
    "        return (str(e)) \n",
    "    \n",
    "result = get_all_seed_Ips_from_discovery(get_all_seed_Ips_from_discovery_url, headers, token)\n",
    "result "
   ]
  },
  {
   "cell_type": "code",
   "execution_count": 93,
   "metadata": {},
   "outputs": [
    {
     "data": {
      "text/plain": [
       "{'statusCode': 790200, 'statusDescription': 'Success.'}"
      ]
     },
     "execution_count": 93,
     "metadata": {},
     "output_type": "execute_result"
    }
   ],
   "source": [
    "delete_seed_Ips_to_discovery_url = nb_url + \"/ServicesAPI/API//V1/CMDB/Discovery/Tasks/\"+str(taskId)+\"/Seeds\"\n",
    "\n",
    "mgmIP1 = \"10.1.13.2\"\n",
    "\n",
    "\n",
    "body1 = {\n",
    "    \"seeds\" : \n",
    "        [\n",
    "            {\"mgmtIP\": mgmIP1}\n",
    "            #{\"mgmtIP\": mgmIP2},\n",
    "           # {\"mgmtIP\": mgmIP3}\n",
    "        ]\n",
    "    }\n",
    " \n",
    "def delete_seed_Ips_to_discovery(delete_seed_Ips_to_discovery_url, headers, token, body1):\n",
    "    headers[\"Token\"]=token\n",
    "    try:\n",
    "        # Do the HTTP request\n",
    "        response = requests.delete(delete_seed_Ips_to_discovery_url, data = json.dumps(body1), headers=headers, verify=False)\n",
    "        # Check for HTTP codes other than 200\n",
    "        if response.status_code == 200:\n",
    "            # Decode the JSON response into a dictionary and use the data\n",
    "            result = response.json()\n",
    "            return (result)\n",
    "        else:\n",
    "            return(\"IP Add Failed - \" + str(response.text))\n",
    "\n",
    "    except Exception as e:\n",
    "        return (str(e)) \n",
    "result = delete_seed_Ips_to_discovery(delete_seed_Ips_to_discovery_url, headers, token, body1)\n",
    "result"
   ]
  },
  {
   "cell_type": "code",
   "execution_count": 96,
   "metadata": {},
   "outputs": [
    {
     "data": {
      "text/plain": [
       "['10.1.13.2',\n",
       " '10.1.14.2',\n",
       " '123.1.1.1',\n",
       " '123.20.1.3',\n",
       " '123.203.3.3',\n",
       " '123.204.4.4']"
      ]
     },
     "execution_count": 96,
     "metadata": {},
     "output_type": "execute_result"
    }
   ],
   "source": [
    "result = get_all_seed_Ips_from_discovery(get_all_seed_Ips_from_discovery_url, headers, token)\n",
    "result "
   ]
  },
  {
   "cell_type": "markdown",
   "metadata": {},
   "source": [
    "## Step 4: Run the task and check the running result.\n",
    "In this step, we are going to run this task to modify our system conditions. \n",
    "> **Note:** users should call get_discovery_task_status API first before calling the get_discovery_tasks_result API to confirm wehther the task is finish running. \n",
    " \n",
    "***4a. Calling run_discovery_task_now API***<br>\n",
    ">Call this API to run a scheduled discovery task right away. Error would return if the task is already running. (more details: [Github_run_discovery_task_now](https://github.com/Gongdai/Netbrain_REST_API_First_Regularization/blob/master/Netbrain_REST_API/API_test/Discovery%20API%20Design/STANDARD_formate_Run_Discovery_Task_Now_API_Test.ipynb)).\n",
    "\n",
    "***4b. Calling get_discovery_tasks_result API***<br>\n",
    ">Call this API to get the running result of specified ip addresses for a discovery task of the latest run. Note that users cannot put too many ip addresses in the query parameter, which will make the URLs over 2,000 characters and it will not work in some web browsers.(more details: [Github_get_discovery_tasks_result](https://github.com/Gongdai/Netbrain_REST_API_First_Regularization/blob/master/Netbrain_REST_API/API_test/Discovery%20API%20Design/STANDARD_formate_Get_Discovery_Tasks_Result_Test.ipynb)).\n",
    "\n",
    "***4c. Calling get_discovery_live_access API***<br>\n",
    ">Call this API to get live access log of all discovered devices (successfully or failed) for a discovery task.(more details: [Github_get_discovery_live_access](https://github.com/Gongdai/Netbrain_REST_API_First_Regularization/blob/master/Netbrain_REST_API/API_test/Discovery%20API%20Design/STANDARD_formate_Get_Discovery_Live_Access_Log_Tasks_API_Test.ipynb)).\n"
   ]
  },
  {
   "cell_type": "code",
   "execution_count": 97,
   "metadata": {},
   "outputs": [
    {
     "data": {
      "text/plain": [
       "{'statusCode': 790200, 'statusDescription': 'Success.'}"
      ]
     },
     "execution_count": 97,
     "metadata": {},
     "output_type": "execute_result"
    }
   ],
   "source": [
    "run_discovery_task_now_url = nb_url + \"/ServicesAPI/API//V1/CMDB/Discovery/Tasks/\"+str(taskId)+\"/Run\"\n",
    "\n",
    "def run_discovery_task_now(run_discovery_task_now_url, headers, token):\n",
    "    headers[\"Token\"]=token\n",
    "    try:\n",
    "        # Do the HTTP request\n",
    "        response = requests.post(run_discovery_task_now_url, headers=headers, verify=False)\n",
    "        # Check for HTTP codes other than 200\n",
    "        if response.status_code == 200:\n",
    "            # Decode the JSON response into a dictionary and use the data\n",
    "            result = response.json()\n",
    "            return (result)\n",
    "        else:\n",
    "            return (\"Run Discovery Task failed - \" + str(response.text))\n",
    "\n",
    "    except Exception as e:\n",
    "        return (str(e)) \n",
    "    \n",
    "result = run_discovery_task_now(run_discovery_task_now_url, headers, token)\n",
    "result"
   ]
  },
  {
   "cell_type": "code",
   "execution_count": 111,
   "metadata": {},
   "outputs": [
    {
     "data": {
      "text/plain": [
       "{'devices': [{'mgmtIP': '123.204.4.4',\n",
       "   'source': 'Scan 123.204.4.4/32',\n",
       "   'hostname': 'SW4',\n",
       "   'frontServerOrGroupId': 'NetBrainServer',\n",
       "   'ping': 'Succeeded',\n",
       "   'SNMP': 'nb',\n",
       "   'vendor': 'Cisco',\n",
       "   'oid': '1.3.6.1.4.1.9.1.1227',\n",
       "   'type': 'Cisco IOS Switch',\n",
       "   'config': 'Succeeded',\n",
       "   'telnetSSH': 'Succeeded'},\n",
       "  {'mgmtIP': '123.20.1.3',\n",
       "   'source': 'Scan 123.20.1.3/32',\n",
       "   'hostname': 'SW5',\n",
       "   'frontServerOrGroupId': 'NetBrainServer',\n",
       "   'ping': 'Succeeded',\n",
       "   'SNMP': 'nb',\n",
       "   'vendor': 'Cisco',\n",
       "   'oid': '1.3.6.1.4.1.9.1.1227',\n",
       "   'type': 'Cisco IOS Switch',\n",
       "   'config': 'Succeeded',\n",
       "   'telnetSSH': 'Succeeded'},\n",
       "  {'mgmtIP': '123.1.1.1',\n",
       "   'source': 'Scan 123.1.1.1/32',\n",
       "   'hostname': 'R1',\n",
       "   'frontServerOrGroupId': 'NetBrainServer',\n",
       "   'ping': 'Succeeded',\n",
       "   'SNMP': 'nb',\n",
       "   'vendor': 'Cisco',\n",
       "   'oid': '1.3.6.1.4.1.9.1.1',\n",
       "   'type': 'Cisco Router',\n",
       "   'config': 'Succeeded',\n",
       "   'telnetSSH': 'Succeeded'},\n",
       "  {'mgmtIP': '123.203.3.3',\n",
       "   'source': 'Scan 123.203.3.3/32',\n",
       "   'hostname': 'SW3',\n",
       "   'frontServerOrGroupId': 'NetBrainServer',\n",
       "   'ping': 'Succeeded',\n",
       "   'SNMP': 'nb',\n",
       "   'vendor': 'Cisco',\n",
       "   'oid': '1.3.6.1.4.1.9.1.1227',\n",
       "   'type': 'Cisco IOS Switch',\n",
       "   'config': 'Succeeded',\n",
       "   'telnetSSH': 'Succeeded'}],\n",
       " 'statusCode': 790200,\n",
       " 'statusDescription': 'Success.'}"
      ]
     },
     "execution_count": 111,
     "metadata": {},
     "output_type": "execute_result"
    }
   ],
   "source": [
    "get_discovery_tasks_result_url = nb_url + \"/ServicesAPI/API/V1/CMDB/Discovery/Tasks/\"+str(taskId)+\"/Results\"\n",
    "\n",
    "def get_discovery_tasks_result(get_discovery_tasks_result_url, headers, token):\n",
    "    headers[\"Token\"]=token\n",
    "    try:\n",
    "        # Do the HTTP request\n",
    "        #response = requests.get(full_url, headers=headers, params = data, verify=False)\n",
    "        response = requests.get(get_discovery_tasks_result_url, headers=headers, verify=False)\n",
    "        # Check for HTTP codes other than 200\n",
    "        if response.status_code == 200:\n",
    "            # Decode the JSON response into a dictionary and use the data\n",
    "            result = response.json()\n",
    "            return (result)\n",
    "        else:\n",
    "            return(\"Get discovery results failed - \" + str(response.text))\n",
    "\n",
    "    except Exception as e:\n",
    "        return (str(e)) \n",
    "    \n",
    "result = get_discovery_tasks_result(get_discovery_tasks_result_url, headers, token)\n",
    "result"
   ]
  },
  {
   "cell_type": "code",
   "execution_count": 112,
   "metadata": {},
   "outputs": [
    {
     "data": {
      "text/plain": [
       "'Task Status: Succeeded with warnings'"
      ]
     },
     "execution_count": 112,
     "metadata": {},
     "output_type": "execute_result"
    }
   ],
   "source": [
    "status = get_discovery_task_status(get_discovery_task_status_url, headers, token)\n",
    "status"
   ]
  },
  {
   "cell_type": "code",
   "execution_count": 114,
   "metadata": {},
   "outputs": [
    {
     "data": {
      "text/plain": [
       "{'liveLogs': [{'mgmtIP': '123.204.4.4',\n",
       "   'liveLog': '16:19:57 Ping [123.204.4.4] via Front Server (NetBrainServer); Succeeded\\r\\n16:19:57 Send RO = [nb][version:v2c] to [123.204.4.4] via Front Server (NetBrainServer); Succeeded\\r\\n16:19:57 Retrieving [123.204.4.4]\\'s Hostname ,Vendor and Model via Front Server (NetBrainServer); Succeeded\\r\\n16:19:57 Telnet to device 123.204.4.4 via Front Server (NetBrainServer)\\n16:19:57 Telnet to device 123.204.4.4 successfully via Front Server (NetBrainServer)\\n16:19:57 Return from Device:[Username:]\\n16:19:57 Sending Username:nb\\n16:19:57 Return from Device:[Password:]\\n16:19:57 Sending Password:******\\n16:19:59 Return from Device:[SW4#]\\n16:19:59 Sending \"enable\" command\\n16:19:59 Return from Device:[SW4#]\\n16:19:59 Sending \"terminal length 0\" command\\n16:19:59 Return from Device:[SW4#]\\n16:19:59 Sending \"show run\" command\\n16:19:59 Received:SW4#show run\\r\\nBuilding configuration...\\r\\n\\r\\r\\n\\r\\n16:19:59 Sending \"exit\" command\\n16:20:00 Telnet to device 123.204.4.4 disconnected.\\n16:20:00 Update configuration file of SW4 successfully,(0.11s)\\r\\n16:20:00 Discovery of 123.204.4.4 complete'},\n",
       "  {'mgmtIP': '123.20.1.3',\n",
       "   'liveLog': '16:19:18 Ping [123.20.1.3] via Front Server (NetBrainServer); Succeeded\\r\\n16:19:18 Send RO = [nb][version:v2c] to [123.20.1.3] via Front Server (NetBrainServer); Succeeded\\r\\n16:19:19 Retrieving [123.20.1.3]\\'s Hostname ,Vendor and Model via Front Server (NetBrainServer); Succeeded\\r\\n16:19:19 Telnet to device 123.20.1.3 via Front Server (NetBrainServer)\\n16:19:19 Telnet to device 123.20.1.3 successfully via Front Server (NetBrainServer)\\n16:19:19 Return from Device:[Username:]\\n16:19:19 Sending Username:nb\\n16:19:19 Return from Device:[Password:]\\n16:19:19 Sending Password:******\\n16:19:20 Return from Device:[SW5#]\\n16:19:20 Sending \"enable\" command\\n16:19:20 Return from Device:[SW5#]\\n16:19:20 Sending \"terminal length 0\" command\\n16:19:20 Return from Device:[SW5#]\\n16:19:20 Sending \"show run\" command\\n16:19:20 Received:SW5#show run\\r\\nBuilding configuration...\\r\\n\\r\\r\\n\\r\\n16:19:20 Sending \"exit\" command\\n16:19:21 Telnet to device 123.20.1.3 disconnected.\\n16:19:21 Update configuration file of SW5 successfully,(0.11s)\\r\\n16:19:21 Discovery of 123.20.1.3 complete'},\n",
       "  {'mgmtIP': '123.1.1.1',\n",
       "   'liveLog': '16:19:16 Ping [123.10.1.2] via Front Server (NetBrainServer); Succeeded\\r\\n16:19:16 Send RO = [nb][version:v2c] to [123.10.1.2] via Front Server (NetBrainServer); Succeeded\\r\\n16:19:16 Retrieving [123.10.1.2]\\'s Hostname ,Vendor and Model via Front Server (NetBrainServer); Succeeded\\r\\n16:19:16 Telnet to device 123.10.1.2 via Front Server (NetBrainServer)\\n16:19:16 Telnet to device 123.10.1.2 successfully via Front Server (NetBrainServer)\\n16:19:16 Return from Device:[Username:]\\n16:19:16 Sending Username:nb\\n16:19:16 Return from Device:[Password:]\\n16:19:16 Sending Password:******\\n16:19:18 Return from Device:[R1#]\\n16:19:18 Sending \"enable\" command\\n16:19:18 Return from Device:[R1#]\\n16:19:18 Sending \"terminal length 0\" command\\n16:19:18 Return from Device:[R1#]\\n16:19:18 Sending \"show run\" command\\n16:19:18 Received:R1#show run\\r\\nBuilding configuration...\\r\\n\\r\\r\\n\\r\\n16:19:18 Sending \"exit\" command\\n16:19:19 Telnet to device 123.10.1.2 disconnected.\\n16:19:19 Update configuration file of R1 successfully,(0.344s)\\r\\n16:19:19 Discovery of 123.1.1.1 complete'},\n",
       "  {'mgmtIP': '123.203.3.3',\n",
       "   'liveLog': '16:19:18 Ping [123.203.3.3] via Front Server (NetBrainServer); Succeeded\\r\\n16:19:18 Send RO = [nb][version:v2c] to [123.203.3.3] via Front Server (NetBrainServer); Succeeded\\r\\n16:19:18 Retrieving [123.203.3.3]\\'s Hostname ,Vendor and Model via Front Server (NetBrainServer); Succeeded\\r\\n16:19:19 Telnet to device 123.203.3.3 via Front Server (NetBrainServer)\\n16:19:19 Telnet to device 123.203.3.3 successfully via Front Server (NetBrainServer)\\n16:19:19 Return from Device:[Username:]\\n16:19:19 Sending Username:nb\\n16:19:19 Return from Device:[Password:]\\n16:19:19 Sending Password:******\\n16:19:20 Return from Device:[SW3#]\\n16:19:20 Sending \"enable\" command\\n16:19:20 Return from Device:[SW3#]\\n16:19:20 Sending \"terminal length 0\" command\\n16:19:20 Return from Device:[SW3#]\\n16:19:20 Sending \"show run\" command\\n16:19:20 Received:SW3#show run\\r\\nBuilding configuration...\\r\\n\\r\\r\\n\\r\\n16:19:20 Sending \"exit\" command\\n16:19:20 Telnet to device 123.203.3.3 disconnected.\\n16:19:21 Update configuration file of SW3 successfully,(0.14s)\\r\\n16:19:21 Discovery of 123.203.3.3 complete'}],\n",
       " 'statusCode': 790200,\n",
       " 'statusDescription': 'Success.'}"
      ]
     },
     "execution_count": 114,
     "metadata": {},
     "output_type": "execute_result"
    }
   ],
   "source": [
    "get_discovery_live_access_log_url =  nb_url + \"/ServicesAPI/API/V1/CMDB/Discovery/Tasks/\"+str(taskId)+\"/LiveAccessLog\"\n",
    "\n",
    "def get_discovery_live_access_log(get_discovery_live_access_log_url, headers, token):\n",
    "    headers[\"Token\"]=token\n",
    "    try:\n",
    "        # Do the HTTP request\n",
    "        response = requests.get(get_discovery_live_access_log_url, headers=headers, verify=False)\n",
    "        # Check for HTTP codes other than 200\n",
    "        if response.status_code == 200:\n",
    "            # Decode the JSON response into a dictionary and use the data\n",
    "            result = response.json()\n",
    "            return (result)\n",
    "        else:\n",
    "            return (\"Get Discovery Live Access Log failed - \" + str(response.text))\n",
    "\n",
    "    except Exception as e:\n",
    "        return (str(e)) \n",
    "    \n",
    "result = get_discovery_live_access_log(get_discovery_live_access_log_url, headers, token)\n",
    "result"
   ]
  },
  {
   "cell_type": "markdown",
   "metadata": {},
   "source": [
    "### Logout Netbrain System by calling logout API"
   ]
  },
  {
   "cell_type": "code",
   "execution_count": 115,
   "metadata": {},
   "outputs": [
    {
     "data": {
      "text/plain": [
       "'Session logout failed! - {\"statusCode\":795010,\"statusDescription\":\"Session not exist\"}'"
      ]
     },
     "execution_count": 115,
     "metadata": {},
     "output_type": "execute_result"
    }
   ],
   "source": [
    "Logout_url = nb_url + \"/ServicesAPI/API/V1/Session\"\n",
    "\n",
    "def logout(Logout_url, token, headers):\n",
    "    headers[\"token\"] = token\n",
    "    \n",
    "    try:\n",
    "        # Do the HTTP request\n",
    "        response = requests.delete(Logout_url, headers=headers, verify=False)\n",
    "        # Check for HTTP codes other than 200\n",
    "        if response.status_code == 200:\n",
    "            # Decode the JSON response into a dictionary and use the data\n",
    "            js = response.json()\n",
    "            return (js)\n",
    "        else:\n",
    "            return (\"Session logout failed! - \" + str(response.text))\n",
    "\n",
    "    except Exception as e:\n",
    "        return (str(e))\n",
    "\n",
    "logout = logout(Logout_url, token, headers)\n",
    "logout"
   ]
  },
  {
   "cell_type": "markdown",
   "metadata": {},
   "source": [
    "# Referance:\n",
    "\n",
    ">1) get_all_discovery_task \n",
    "\n",
    ">https://github.com/Gongdai/Netbrain_REST_API_First_Regularization/blob/master/Netbrain_REST_API/API_test/Discovery%20API%20Design/STANDARD_formate_Get_All_Discovery_Tasks_API_Test.ipynb\n",
    "\n",
    ">2) get_all_discovery_task\n",
    "\n",
    ">https://github.com/Gongdai/Netbrain_REST_API_First_Regularization/blob/master/Netbrain_REST_API/API_test/Discovery%20API%20Design/STANDARD_formate_Get_Discovery_Tasks_Status_API_Test.ipynb\n",
    "\n",
    ">3) add_seed_Ips_to_discovery\n",
    "\n",
    ">https://github.com/Gongdai/Netbrain_REST_API_First_Regularization/blob/master/Netbrain_REST_API/API_test/Discovery%20API%20Design/STANDARD_formate_Add_Seed_IP(s)_to_Discovery_API_Test.ipynb\n",
    "\n",
    ">4) delete_seed_Ips_to_discovery\n",
    "\n",
    ">https://github.com/Gongdai/Netbrain_REST_API_First_Regularization/blob/master/Netbrain_REST_API/API_test/Discovery%20API%20Design/STANDARD_formate_Delete_Seed_IP(s)_from_Discovery_API_Test.ipynb\n",
    "\n",
    ">5) get_all_seed_Ips_from_discovery\n",
    "\n",
    ">https://github.com/Gongdai/Netbrain_REST_API_First_Regularization/blob/master/Netbrain_REST_API/API_test/Discovery%20API%20Design/STANDARD_formate_Get_All_SeedIPs_from_Discovery_API_Test.ipynb\n",
    "\n",
    ">6) run_discovery_task_now\n",
    "\n",
    ">https://github.com/Gongdai/Netbrain_REST_API_First_Regularization/blob/master/Netbrain_REST_API/API_test/Discovery%20API%20Design/STANDARD_formate_Run_Discovery_Task_Now_API_Test.ipynb\n",
    "\n",
    ">7) get_discovery_tasks_result\n",
    "\n",
    ">https://github.com/Gongdai/Netbrain_REST_API_First_Regularization/blob/master/Netbrain_REST_API/API_test/Discovery%20API%20Design/STANDARD_formate_Get_Discovery_Tasks_Result_Test.ipynb\n",
    "\n",
    ">8) get_discovery_live_access\n",
    "\n",
    ">https://github.com/Gongdai/Netbrain_REST_API_First_Regularization/blob/master/Netbrain_REST_API/API_test/Discovery%20API%20Design/STANDARD_formate_Get_Discovery_Live_Access_Log_Tasks_API_Test.ipynb"
   ]
  },
  {
   "cell_type": "code",
   "execution_count": null,
   "metadata": {},
   "outputs": [],
   "source": []
  }
 ],
 "metadata": {
  "kernelspec": {
   "display_name": "Python 3",
   "language": "python",
   "name": "python3"
  },
  "language_info": {
   "codemirror_mode": {
    "name": "ipython",
    "version": 3
   },
   "file_extension": ".py",
   "mimetype": "text/x-python",
   "name": "python",
   "nbconvert_exporter": "python",
   "pygments_lexer": "ipython3",
   "version": "3.7.1"
  }
 },
 "nbformat": 4,
 "nbformat_minor": 2
}
